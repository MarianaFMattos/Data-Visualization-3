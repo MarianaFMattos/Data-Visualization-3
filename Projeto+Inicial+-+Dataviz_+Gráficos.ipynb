{
 "cells": [
  {
   "cell_type": "markdown",
   "metadata": {
    "id": "7D3n0DACbyjf"
   },
   "source": [
    "# <font color=green> Data visualization: Gráficos</font>\n",
    "---"
   ]
  },
  {
   "cell_type": "markdown",
   "metadata": {
    "id": "Au2nZsz9ezur"
   },
   "source": [
    "# **Aula 1 - Comparando dados**"
   ]
  },
  {
   "cell_type": "markdown",
   "metadata": {
    "id": "zozK6sjqX0YH"
   },
   "source": [
    "## **1.1 Introdução**\n",
    "\n",
    "---\n",
    "\n",
    "\n",
    "Neste curso, vamos construir um portfólio com as análises de **duas** bases de dados diferentes, explorando cada uma e respondendo aos questionamentos levantados em torno de seus dados. Todas as bases estão no formato CSV e podem ser acessadas por meio do Github.\n",
    "\n",
    "> **Bases de dados:**\n",
    "\n",
    "1.   Vendas de uma rede de lojas de departamentos que opera em todo Brasil\n",
    "\n",
    "2.   Distribuição de volumes e medidas de produtos de uma empresa de itens de limpeza\n",
    "\n",
    " 2.1 Volume de um amaciante de 1L em um total de 1000 amostras medidas. \n",
    " \n",
    " 2.2 Medidas de altura, comprimento e largura de uma caixa de sabão em pó em um total de 1000 amostras medidas\n",
    "\n",
    "A cada aula, vamos passar por uma das bases de dados e tecer nossas análises de acordo com as perguntas que forem apresentadas buscando respondê-las por meio da utilização de recursos visuais (gráficos e elementos visuais)."
   ]
  },
  {
   "cell_type": "markdown",
   "metadata": {
    "id": "YvLE4O2iemTx"
   },
   "source": [
    "### Paleta de cores"
   ]
  },
  {
   "cell_type": "markdown",
   "metadata": {
    "id": "sAuABmczf3Ev"
   },
   "source": [
    "|Azul|||||\n",
    "|------|------|------|------|------|\n",
    "| AZUL1 |AZUL2 |AZUL3 |AZUL4 |AZUL5 |\n",
    "|#03045e | #0077b6 | #00b4d8| #90e0ef | #CDDBF3 |\n",
    "|![adicionar desc](https://github.com/alura-cursos/dataviz-graficos/blob/master/imagens/AZUL1.png?raw=true)|![adicionar desc](https://github.com/alura-cursos/dataviz-graficos/blob/master/imagens/AZUL2.png?raw=true)|![adicionar desc](https://github.com/alura-cursos/dataviz-graficos/blob/master/imagens/AZUL3.png?raw=true)|![adicionar desc](https://github.com/alura-cursos/dataviz-graficos/blob/master/imagens/AZUL4.png?raw=true)|![adicionar desc](https://github.com/alura-cursos/dataviz-graficos/blob/master/imagens/AZUL5.png?raw=true)|\n",
    "\n",
    "&nbsp;\n",
    "\n",
    "|Cinza|||||\n",
    "|------|------|------|------|------|\n",
    "| CINZA1 |CINZA2 |CINZA3 |CINZA4 |CINZA5|\n",
    "|#212529 | #495057| #adb5bd | #dee2e6| #f8f9fa |\n",
    "| ![adicionar desc](https://github.com/alura-cursos/dataviz-graficos/blob/master/imagens/CINZA1.png?raw=true)  |![adicionar desc](https://github.com/alura-cursos/dataviz-graficos/blob/master/imagens/CINZA2.png?raw=true) |![adicionar desc](https://github.com/alura-cursos/dataviz-graficos/blob/master/imagens/CINZA3.png?raw=true) |![adicionar desc](https://github.com/alura-cursos/dataviz-graficos/blob/master/imagens/CINZA4.png?raw=true) |![adicionar desc](https://github.com/alura-cursos/dataviz-graficos/blob/master/imagens/CINZA5.png?raw=true)|\n",
    "&nbsp;\n",
    "\n",
    "|Misto|||||\n",
    "|------|------|------|------|------|\n",
    "| VERMELHO1 |LARANJA1 |AMARELO1 | VERDE1 |VERDE2 |\n",
    "|#e76f51 | #f4a261 | #e9c46a |#0C8040 | #4c956c |#2a9d8f|\n",
    "| ![adicionar desc](https://github.com/alura-cursos/dataviz-graficos/blob/master/imagens/VERMELHO1.png?raw=true) |![adicionar desc](https://github.com/alura-cursos/dataviz-graficos/blob/master/imagens/LARANJA1.png?raw=true)|![adicionar desc](https://github.com/alura-cursos/dataviz-graficos/blob/master/imagens/AMARELO1.png?raw=true)| ![adicionar desc](https://github.com/alura-cursos/dataviz-graficos/blob/master/imagens/VERDE1.png?raw=true) | ![adicionar desc](https://github.com/alura-cursos/dataviz-graficos/blob/master/imagens/VERDE2.png?raw=true) |\n"
   ]
  },
  {
   "cell_type": "code",
   "execution_count": null,
   "metadata": {},
   "outputs": [],
   "source": [
    "pip install pandas==2.2.1"
   ]
  },
  {
   "cell_type": "code",
   "execution_count": null,
   "metadata": {
    "id": "_LZKF5MzesCL"
   },
   "outputs": [],
   "source": [
    "# Definindo a paleta de cores\n",
    "AZUL1, AZUL2, AZUL3, AZUL4, AZUL5 = '#03045e', '#0077b6', \"#00b4d8\", '#90e0ef', '#CDDBF3'\n",
    "CINZA1, CINZA2, CINZA3, CINZA4, CINZA5 = '#212529', '#495057', '#adb5bd', '#dee2e6', '#f8f9fa'\n",
    "VERMELHO1, LARANJA1, AMARELO1, VERDE1, VERDE2 = '#e76f51', '#f4a261',\t'#e9c46a', '#4c956c', '#2a9d8f'"
   ]
  },
  {
   "cell_type": "markdown",
   "metadata": {
    "id": "t8kjf_FpfBkJ"
   },
   "source": [
    "## **1.2 - Conhecendo os dados**\n",
    "\n",
    "\n",
    "---\n",
    "\n",
    "\n"
   ]
  },
  {
   "cell_type": "markdown",
   "metadata": {
    "id": "Pl-FzB1PjzRy"
   },
   "source": [
    "### **Situação-problema 1**\n",
    "Uma rede de lojas de departamentos que opera em todo Brasil quer saber como os estados ou sua clientela estão se comportando nas vendas de seus produtos. Para isso, você como cientista de dados precisará analisar os dados que ela disponibilizou em um dataset com os pedidos das suas clientes entre o ano de 2016 e 2019. \n",
    "\n",
    "Aqui, vamos trabalhar com uma quantidade menor de dados, mas o racional é o mesmo para quantidade de dados maiores.\n"
   ]
  },
  {
   "cell_type": "code",
   "execution_count": null,
   "metadata": {
    "id": "FFJB10HlfBSJ"
   },
   "outputs": [],
   "source": [
    "import pandas as pd"
   ]
  },
  {
   "cell_type": "code",
   "execution_count": null,
   "metadata": {
    "id": "Rwjb5jaPkIzc"
   },
   "outputs": [],
   "source": [
    "# Importando o relatório de vendas e atualizando as colunas de pedido e envio para o tipo data\n",
    "vendas = pd.read_csv(\"https://raw.githubusercontent.com/alura-cursos/dataviz-graficos/master/dados/relatorio_vendas.csv\")\n",
    "...\n",
    "vendas['data_pedido'] = pd.to_datetime(vendas['data_pedido'], format = '%Y-%m-%d')\n",
    "vendas['data_envio'] = pd.to_datetime(vendas['data_envio'], format = '%Y-%m-%d')\n",
    "vendas"
   ]
  },
  {
   "cell_type": "code",
   "execution_count": null,
   "metadata": {
    "id": "UQjZEaUjkg8_"
   },
   "outputs": [],
   "source": [
    "# Verificando os tipos de dados e se existem dados nulos\n",
    "vendas.info()"
   ]
  },
  {
   "cell_type": "markdown",
   "metadata": {
    "id": "O-KLnaiFj6hM"
   },
   "source": [
    "Após visualizarmos de maneira rápida os dados que possuímos, vamos partir para as análises que podemos fazer com esses dados e quais os gráficos de comparação vamos utilizar a fim de apresentar esse tipo de informação.\n",
    "\n",
    "### **Questionamentos**\n",
    "\n",
    "1.   Qual o total de vendas por ano? E qual ano performou melhor em nossa base de dados?\n",
    "\n",
    "2.   Qual é o top 7 produtos que mais apresentaram lucros em nosso catálogo durante o período representado?\n",
    "\n",
    "3.   Se separarmos o total de vendas por ano por regiões? O que conseguimos observar em nossos dados?\n",
    "\n",
    "4.   Qual o modo de envio mais utilizado pelos clientes da loja? É proporcional para B2B e B2C?\n",
    "\n",
    "5.   Qual o total de vendas por trimestre do estado de São Paulo? \n",
    "\n",
    "6.   Qual o faturamento por trimestre em cada região?\n",
    "\n"
   ]
  },
  {
   "cell_type": "markdown",
   "metadata": {
    "id": "mkiMkui-HdZT"
   },
   "source": [
    "## **1.3 - Gráficos de colunas**\n",
    "\n",
    "\n",
    "---\n",
    "\n",
    "\n"
   ]
  },
  {
   "cell_type": "markdown",
   "metadata": {
    "id": "ckQWjwb6XzeK"
   },
   "source": [
    "<img src=\"https://github.com/alura-cursos/dataviz-graficos/blob/b86ed16b3652d0226512a1ecf74d044d197723d8/imagens/Tipos_Graficos/Gr%C3%A1fico%20(comparando%20e%20agrupando%20dados).png?raw=true\" alt=\"inserir alt\" height=\"343\">\n",
    "\n",
    "\n",
    "<font size=2>Fonte: Andrew Abela (Extreme Presentation/Biuwer)</font>\n"
   ]
  },
  {
   "cell_type": "markdown",
   "metadata": {
    "id": "8sc3B4Xnj8gO"
   },
   "source": [
    "### **Pergunta 1 -** Qual o total de vendas por ano? E qual ano performou melhor em nossa base de dados?"
   ]
  },
  {
   "cell_type": "markdown",
   "metadata": {
    "id": "q8kZdoa1o11o"
   },
   "source": [
    "#### Tratando os dados para gerar a visualização"
   ]
  },
  {
   "cell_type": "code",
   "execution_count": null,
   "metadata": {
    "id": "YUA5ibkLouAD"
   },
   "outputs": [],
   "source": [
    "# Criando um df com os dados desejados\n",
    "df_vendas_ano = vendas.copy()\n",
    "df_vendas_ano = df_vendas_ano[['data_pedido', 'vendas']]\n",
    "\n",
    "# Gerando uma coluna que represente apenas os anos puxando-os da coluna data pedido e agrupando os dados por ano\n",
    "df_vendas_ano['ano'] = df_vendas_ano.data_pedido.dt.year\n",
    "df_vendas_ano.drop(labels = 'data_pedido', axis = 1, inplace = True)\n",
    "\n",
    "#Agrupando os dados por ano\n",
    "df_vendas_ano = df_vendas_ano.groupby(['ano']).aggregate('sum')\n",
    "\n",
    "\n",
    "df_vendas_ano"
   ]
  },
  {
   "cell_type": "markdown",
   "metadata": {
    "id": "odNP3nGIu8-J"
   },
   "source": [
    "#### Gerando o gráfico"
   ]
  },
  {
   "cell_type": "code",
   "execution_count": null,
   "metadata": {
    "id": "DRVLh5HWu7SN"
   },
   "outputs": [],
   "source": [
    "## Gerando a função para criar o gráfico de colunas\n",
    "\n",
    "def grafico_vendas(cores: list = [AZUL2]):\n",
    "    # Importando as bibliotecas\n",
    "    import matplotlib.pyplot as plt\n",
    "    import seaborn as sns\n",
    "\n",
    "    # Área do gráfico e tema da visualização\n",
    "    fig, ax = plt.subplots(figsize = (10, 4))\n",
    "    sns.set_theme(style = 'white')\n",
    "\n",
    "    # Gerando o gráfico de colunas \n",
    "    ax = sns.barplot(data = df_vendas_ano, x = df_vendas_ano.index, y = 'vendas', palette = cores)\n",
    "    # Personalizando o gráfico\n",
    "    ax.set_title('Vendas das lojas de departamento de\\n2016 a 2019', loc = 'left', fontsize = 18, color = CINZA1)\n",
    "    ax.set_xlabel('')\n",
    "    ax.set_ylabel('')\n",
    "    ax.xaxis.set_tick_params(labelsize = 14, labelcolor = CINZA2)\n",
    "    sns.despine(left = True, bottom = True)\n",
    "\n",
    "    # Escrevendo os valores de cada barra no gráfico\n",
    "    ax.set_yticklabels([])\n",
    "    for i, valor in enumerate(df_vendas_ano['vendas']):\n",
    "        qtd = f'R$ {valor:,.0f}'.replace(',', '.')\n",
    "        offset = 1e5\n",
    "        ax.text(i, valor + offset, qtd, color = CINZA2, fontsize = 12, ha = 'center', va = 'center')\n",
    "\n",
    "    # retornando o eixo \n",
    "    return ax\n",
    "\n",
    "# chamando a função\n",
    "ax = grafico_vendas()"
   ]
  },
  {
   "cell_type": "markdown",
   "metadata": {
    "id": "2DQ-Xi8ceNAp"
   },
   "source": [
    "## **1.4 - Adicionando textos na visualização**\n",
    "\n",
    "---\n",
    "\n"
   ]
  },
  {
   "cell_type": "code",
   "execution_count": null,
   "metadata": {
    "id": "tlkEC1C0faZ5"
   },
   "outputs": [],
   "source": [
    "## Configurando o gráfico com parâmetros que potencializam a visualização dos dados\n",
    "\n",
    "# Definindo as cores do gráfico\n",
    "cores = []\n",
    "for ano in df_vendas_ano.index:\n",
    "    if df_vendas_ano.loc[ano, 'vendas'] == df_vendas_ano.vendas.max():\n",
    "        cores.append(AZUL2)\n",
    "    else:\n",
    "        cores.append(AZUL5)\n",
    "\n",
    "## Chamando a função do gráfico de colunas\n",
    "ax = grafico_vendas(cores)\n",
    "\n",
    "# Anotando uma conclusão no gráfico\n",
    "ax.text(3.5, 1.5e6,\n",
    "       'Em $\\\\bf{2019}$, as vendas\\n'\n",
    "       'nas lojas subiram\\n'\n",
    "       'aproximadamente $\\\\bf{22,3}$%\\n'\n",
    "       'em relação ao ano de 2018.',\n",
    "       fontsize = 14, linespacing = 1.45, color = AZUL2)\n",
    "\n",
    "fig = ax.get_figure()\n"
   ]
  },
  {
   "cell_type": "markdown",
   "metadata": {
    "id": "giWDQDtkXDBe"
   },
   "source": [
    "<font color=green size=4> Conclusões: </font>\n",
    "\n",
    "---\n",
    "\n",
    "Um gráfico de colunas é ideal para compararmos valores com poucas categorias ou pequenos intervalos de tempo. Utilizamos aqui o recurso de destaque por cor para orientar o nosso público a visualizar o último período em comparação aos outros. Além disso, passamos uma informação em forma de texto apontando a evolução em relação ao ano anterior.  \n",
    "\n",
    "Como sugestão, podemos testar essa técnica também com outros valores em nossa base de dados como, por exemplo, o lucro anual ou o faturamento em vendas pelo estado ou região que você preferir analisar."
   ]
  },
  {
   "cell_type": "markdown",
   "metadata": {
    "id": "o-h-SNCNejTH"
   },
   "source": [
    "## **1.5  - Gráfico de barras**\n",
    "\n",
    "---\n",
    "\n",
    "\n",
    "\n"
   ]
  },
  {
   "cell_type": "markdown",
   "metadata": {
    "id": "TJ-JnYYsGMMz"
   },
   "source": [
    "### **Pergunta 2 -** Qual é o top 7 produtos que mais apresentaram lucros em nosso catálogo durante o período representado?"
   ]
  },
  {
   "cell_type": "markdown",
   "metadata": {
    "id": "WI6f6ehgGMM4"
   },
   "source": [
    "#### Tratando os dados para gerar a visualização"
   ]
  },
  {
   "cell_type": "code",
   "execution_count": null,
   "metadata": {
    "id": "-8ZxHixDGMM5"
   },
   "outputs": [],
   "source": [
    "# Criando um df com os dados desejados\n",
    "top_lucro = vendas.copy()\n",
    "top_lucro = top_lucro[['tipo_produto', 'lucro']]\n",
    "\n",
    "# Agrupando os dados por tipo_produto, ordenando de maneira crescente pelo lucro e selecionando os 7 primeiros\n",
    "top_lucro = top_lucro.groupby(['tipo_produto']).agg('sum').sort_values('lucro', ascending = False)\n",
    "\n",
    "top_lucro\n",
    "#top_7\n",
    "top_7 = top_lucro[:7]\n",
    "top_7"
   ]
  },
  {
   "cell_type": "markdown",
   "metadata": {
    "id": "ibvPGfwBGMM5"
   },
   "source": [
    "#### Gerando o gráfico"
   ]
  },
  {
   "cell_type": "code",
   "execution_count": null,
   "metadata": {
    "id": "hV6ZxoDlm2w0"
   },
   "outputs": [],
   "source": [
    "## Gerando a função para criar o gráfico de barras\n",
    "\n",
    "def grafico_top_7():\n",
    "  # Importando as bibliotecas\n",
    "  import matplotlib.pyplot as plt\n",
    "  import seaborn as sns\n",
    "\n",
    "  # Área do gráfico e tema da visualização\n",
    "  fig, ax = plt.subplots(figsize=(10,4))\n",
    "  fig.subplots_adjust(right = 0.7)\n",
    "  sns.set_theme(style=\"white\")\n",
    "\n",
    "  # Definindo as cores do gráfico\n",
    "  cores = [AZUL2, AZUL2, AZUL2, VERDE1, VERDE1, CINZA3, VERDE1]\n",
    "\n",
    "  # Gerando o gráfico de colunas \n",
    "  ax = sns.barplot(data = top_7, x = 'lucro', y = top_7.index, palette = cores)\n",
    "  \n",
    "  # Personalizando o gráfico\n",
    "  ax.set_title('Top 7 produtos com maior lucro no catálogo (2016-2019)\\n', fontsize = 18, loc = 'left')\n",
    "  ax.set_xlabel('')\n",
    "  ax.set_ylabel('')\n",
    "  ax.set_xticklabels([])\n",
    "  ax.yaxis.set_tick_params(labelsize = 10, labelcolor = CINZA1)\n",
    "  sns.despine(left = True, bottom = True)\n",
    "\n",
    "  # Escrevendo os valores de cada barra no gráfico\n",
    "  for i, valor in enumerate(top_7['lucro']):\n",
    "    qtd = f'R$ {valor:,.0f}'.replace(',','.')  \n",
    "    offset = 1e3  # offset de 1.000\n",
    "    ax.text(valor - offset, i, qtd, color= CINZA5, fontsize=10, fontweight='bold', ha='right', va='center')\n",
    "\n",
    "  return ax\n",
    "\n",
    "ax = grafico_top_7()"
   ]
  },
  {
   "cell_type": "markdown",
   "metadata": {
    "id": "PDPTH1XMnCQK"
   },
   "source": [
    "## **Adicionando texto com destaques**\n",
    "\n",
    "---\n",
    "\n",
    "\n"
   ]
  },
  {
   "cell_type": "markdown",
   "metadata": {
    "id": "DtAwXsTzoirv"
   },
   "source": [
    "Criando uma função para escrita de texto utilizando diferentes cores. \n",
    "\n",
    "> Não existe uma função nativa para isso. (Adaptado de https://github.com/empathy87/storytelling-with-data)\n",
    "\n"
   ]
  },
  {
   "cell_type": "code",
   "execution_count": null,
   "metadata": {
    "id": "HQcEvuEOm2wu"
   },
   "outputs": [],
   "source": [
    "from matplotlib import transforms\n",
    "\n",
    "def texto_colorido(x, y, texto, cores, esp=20, ax=None, **kw):\n",
    "    cores = list(reversed(cores))\n",
    "    t = ax.transData\n",
    "    canvas = ax.figure.canvas\n",
    "\n",
    "    for i, linha in enumerate(reversed(texto.split('\\n'))):\n",
    "        frases = linha.split('||')\n",
    "        for s, cor in zip(frases, cores[i]):\n",
    "            texto = ax.text(x, y, s, color=cor, transform=t, **kw)\n",
    "            texto.draw(canvas.get_renderer())\n",
    "            ex = texto.get_window_extent()\n",
    "            t = transforms.offset_copy(texto._transform, x=ex.width, \n",
    "                                       units='dots')\n",
    "\n",
    "        t = transforms.offset_copy(ax.transData, x=0, y=(i + 1) * esp, units='dots')"
   ]
  },
  {
   "cell_type": "markdown",
   "metadata": {
    "id": "-tKaP-mKp4E5"
   },
   "source": [
    "#### Gerando o gráfico"
   ]
  },
  {
   "cell_type": "code",
   "execution_count": null,
   "metadata": {
    "id": "XdFVO61aGMM5"
   },
   "outputs": [],
   "source": [
    "## Configurando o gráfico com parâmetros que potencializam a visualização dos dados\n",
    "\n",
    "# Chamando a função do gráfico de barras\n",
    "ax = grafico_top_7()\n",
    "\n",
    "# Anotando uma conclusão no gráfico\n",
    "texto_colorido(\n",
    "    9.2e4, 3.25,                                                        # coordenadas\n",
    "    'Os dados indicam que os 3 produtos que geram\\n'                    # texto\n",
    "    '$\\\\bf{maior\\ lucro}$|| são do departamento ||$\\\\bf{Automotivo}$.\\n'\n",
    "    '\\n'\n",
    "    'Podemos notar também que o departamento de\\n'\n",
    "    '$\\\\bf{Jardinagem\\ e\\ paisagismo}$|| possui 3 produtos com\\n'\n",
    "    'uma boa margem de lucro, sendo que um deles está\\n'\n",
    "    'abaixo de ||$\\\\bf{50\\ mil\\ reais}$|| no período mencionado.',\n",
    "    [[CINZA2],                        # linha 1                          # cores\n",
    "     [CINZA1, CINZA2, AZUL2],         # linha 2\n",
    "     [CINZA2],                        # linha 3\n",
    "     [CINZA2],                        # linha 4\n",
    "     [VERDE1, CINZA2],                # linha 5\n",
    "     [CINZA2],                        # linha 5\n",
    "     [CINZA2, CINZA1, CINZA2]        # linha 7\n",
    "    ],\n",
    "    esp=22, # espaçamento\n",
    "    ax=ax, # figura onde desenhar o texto\n",
    "    fontsize=10)\n",
    "\n",
    "fig = ax.get_figure()"
   ]
  },
  {
   "cell_type": "markdown",
   "metadata": {
    "id": "K_r5Hsc5GMM6"
   },
   "source": [
    "<font color=green size=4> Conclusões: </font>\n",
    "\n",
    "---\n",
    "\n",
    "Um gráfico de barras é ideal para compararmos valores com muitos itens (acima de 5), principalmente se os itens forem pequenas frases ou palavras. Utilizamos aqui o recurso de divisão de categorias por cor, além do destaque dessas no texto, orientando o público sobre qual dados em específico estamos explorando. \n",
    "\n",
    "Como sugestão, podemos testar essa técnica também com outros valores em nossa base de dados como, por exemplo, o faturamento em um dado período ou em relação ao departamento e/ou região que você preferir analisar."
   ]
  },
  {
   "cell_type": "markdown",
   "metadata": {
    "id": "jHqFqkNpsRqM"
   },
   "source": [
    "# **Aula 2 - Agrupando dados**"
   ]
  },
  {
   "cell_type": "markdown",
   "metadata": {
    "id": "tLLaxZYpsq_j"
   },
   "source": [
    "<img src=\"https://github.com/alura-cursos/dataviz-graficos/blob/b86ed16b3652d0226512a1ecf74d044d197723d8/imagens/Tipos_Graficos/Gr%C3%A1fico%20(comparando%20e%20agrupando%20dados).png?raw=true\" alt=\"inserir alt\" height=\"343\">\n",
    "\n",
    "\n",
    "<font size=2>Fonte: Andrew Abela (Extreme Presentation/Biuwer)</font>\n"
   ]
  },
  {
   "cell_type": "markdown",
   "metadata": {
    "id": "N6tv_s2QsamF"
   },
   "source": [
    "## **2.1 - Gráfico de colunas empilhadas**\n",
    "\n",
    "---\n",
    "\n"
   ]
  },
  {
   "cell_type": "markdown",
   "metadata": {
    "id": "Yh0BtbNVRIk9"
   },
   "source": [
    "### **Pergunta 3 -** Se separarmos o total de vendas por ano por região? O que conseguimos observar em nossos dados?"
   ]
  },
  {
   "cell_type": "markdown",
   "metadata": {
    "id": "ne-lgc1zRIlO"
   },
   "source": [
    "#### Tratando os dados para gerar a visualização"
   ]
  },
  {
   "cell_type": "code",
   "execution_count": null,
   "metadata": {
    "id": "bt9DbcglRIlO"
   },
   "outputs": [],
   "source": [
    "# Criando um df com os dados desejados\n",
    "df_vendas_reg = vendas.copy()\n",
    "df_vendas_reg = df_vendas_reg[['data_pedido','regiao', 'vendas']]\n",
    "\n",
    "# Gerando uma coluna que represente apenas os anos puxando-os da coluna data pedido\n",
    "df_vendas_reg['ano'] = df_vendas_reg.data_pedido.dt.year\n",
    "df_vendas_reg.drop(labels = \"data_pedido\", axis = 1, inplace = True)\n",
    "\n",
    "df_vendas_reg"
   ]
  },
  {
   "cell_type": "code",
   "execution_count": null,
   "metadata": {
    "id": "79kcFoWkfVIB"
   },
   "outputs": [],
   "source": [
    "# Criando uma tabela cruzada (crosstab) com os valores de venda de cada ano por região\n",
    "vendas_reg = pd.crosstab(index = df_vendas_reg.ano, columns = df_vendas_reg.regiao,\n",
    "                        values = df_vendas_reg.vendas, aggfunc = 'sum')\n",
    "\n",
    "# Ajustando a tabela em ordem descrescente dos estados que mais executam vendas\n",
    "vendas_reg = vendas_reg[[\"Sudeste\", \"Nordeste\", \"Centro-Oeste\", \"Norte\", \"Sul\"]]\n",
    "vendas_reg"
   ]
  },
  {
   "cell_type": "markdown",
   "metadata": {
    "id": "PRIqzUHoRIlP"
   },
   "source": [
    "#### Gerando o gráfico"
   ]
  },
  {
   "cell_type": "code",
   "execution_count": null,
   "metadata": {
    "id": "z_9iKlj4RIlP"
   },
   "outputs": [],
   "source": [
    "## Gerando a função para criar o gráfico de barras\n",
    "\n",
    "def grafico_vendas_regiao():\n",
    "  # Definindo as cores do gráfico\n",
    "  cores = [AZUL2, AZUL3, AZUL4, CINZA3, CINZA4]\n",
    "\n",
    "  # Gerando o gráfico de colunas empilhadas \n",
    "  ax = vendas_reg.plot(kind = 'bar', stacked = True, figsize = (10, 6), color = cores)\n",
    "\n",
    "  # Personalizando o gráfico\n",
    "  ax.set_title('Vendas das lojas de departamentos por região\\nde 2016 a 2019', loc='left', fontsize=22, color = CINZA1)\n",
    "  ax.set_xlabel('')\n",
    "  ax.set_ylabel('')\n",
    "  ax.set_yticklabels([])\n",
    "  ax.xaxis.set_tick_params(labelsize=14, labelcolor = CINZA2, rotation = 0)\n",
    "  ax.set_frame_on(False)\n",
    "\n",
    "  # remover todos os ticks do eixo x e y\n",
    "  ax.tick_params(axis = 'both', which = 'both', length = 0)\n",
    "\n",
    "  # Anotando uma conclusão no gráfico\n",
    "  ax.text(3.35, 1.1e6, '87%', fontweight='bold', fontsize=20, color=AZUL1)\n",
    "  ax.text(3.35, 5.5e5,\n",
    "  'das vendas nas lojas\\n'\n",
    "  'estão concentradas nas regiões\\n'\n",
    "  '$\\\\bf{Sudeste}$, $\\\\bf{Nordeste}$ e\\n'\n",
    "  '$\\\\bf{Centro-Oeste}$ em 2019.',\n",
    "  fontsize=14,\n",
    "  linespacing=1.45,\n",
    "  color=AZUL1)\n",
    "  \n",
    "  return ax\n",
    "    \n",
    "ax = grafico_vendas_regiao()"
   ]
  },
  {
   "cell_type": "markdown",
   "metadata": {
    "id": "CS3Gw19q20ZB"
   },
   "source": [
    "## **2.2 - Bar label e legenda**\n",
    "\n",
    "---\n",
    "\n"
   ]
  },
  {
   "cell_type": "code",
   "execution_count": null,
   "metadata": {
    "id": "9TyLzlNC2r6v"
   },
   "outputs": [],
   "source": [
    "## Configurando o gráfico com parâmetros que potencializam a visualização dos dados\n",
    "\n",
    "# Chamando a função do gráfico de barras\n",
    "ax = grafico_vendas_regiao()\n",
    "\n",
    "# Personalizando a legenda\n",
    "ax.legend(bbox_to_anchor = (1, 1), reverse = True, title = 'Região', title_fontsize = 12, fontsize = 12)\n",
    "\n",
    "# Adicionando os valores \n",
    "for container in ax.containers:\n",
    "    labels = [f'R$ {valor.get_height()/1000:,.0f}k'.replace(',' , '.') for valor in container]\n",
    "    ax.bar_label(container, label_type = 'center', labels = labels, size = 10, color = CINZA1, fontweight = 'bold')\n",
    "\n",
    "ax.axvline( x = 3.3, ymin = 0, ymax = 0.83, color = AZUL1, linewidth = 1.2 )\n",
    "\n",
    "fig = ax.get_figure()"
   ]
  },
  {
   "cell_type": "markdown",
   "metadata": {
    "id": "7ZfnaWSZRIlQ"
   },
   "source": [
    "<font color=green size=4> Conclusões: </font>\n",
    "\n",
    "---\n",
    "\n",
    "Diferentemente de um gráfico de colunas simples, o gráfico de colunas empilhadas adiciona à comparação entre períodos ou categorias a comparação também entre os dados de cada período/categoria. É como se colocássemos uma \"lupa\" em cada coluna e vizualizássemos a composição de cada uma delas de acordo com a variável desejada (no nosso exemplo as regiões). Utilizamos aqui o recurso da legenda para divisão das regiões e os valores de cada coluna para comparação entre si \n",
    "\n",
    "Como sugestão, podemos testar essa técnica também com outros valores em nossa base de dados como, por exemplo, o lucro anual ou o faturamento em vendas por estados de uma mesma região que você preferir analisar."
   ]
  },
  {
   "cell_type": "markdown",
   "metadata": {
    "id": "eQlK9345-Ywv"
   },
   "source": [
    "## **2.3 - Gráfico de barras empilhadas**\n",
    "\n",
    "---\n",
    "\n",
    "\n",
    "\n"
   ]
  },
  {
   "cell_type": "markdown",
   "metadata": {
    "id": "lmtvImYyEVyc"
   },
   "source": [
    "### **Pergunta 4 -** Qual o modo de envio mais utilizado pelos clientes da loja? É proporcional para B2B e B2C?"
   ]
  },
  {
   "cell_type": "markdown",
   "metadata": {
    "id": "i7h-azlhEVyi"
   },
   "source": [
    "#### Tratando os dados para gerar a visualização"
   ]
  },
  {
   "cell_type": "code",
   "execution_count": null,
   "metadata": {},
   "outputs": [],
   "source": [
    "# Criando um df com os dados desejados\n",
    "df_envio = vendas.copy()\n",
    "df_envio = df_envio[['modo_envio', 'segmento_cliente']]\n",
    "df_envio"
   ]
  },
  {
   "cell_type": "code",
   "execution_count": null,
   "metadata": {
    "colab": {
     "base_uri": "https://localhost:8080/",
     "height": 206
    },
    "executionInfo": {
     "elapsed": 314,
     "status": "ok",
     "timestamp": 1683895534052,
     "user": {
      "displayName": "Afonso Augusto Rios",
      "userId": "05972796828124452071"
     },
     "user_tz": 180
    },
    "id": "tqccIL-XEVyi",
    "outputId": "7a595afc-ddc9-42f8-c1c1-8d2f150f5497"
   },
   "outputs": [],
   "source": [
    "# Criando uma tabela cruzada (crosstab) com os modos de envio divididos pelos clientes B2C e B2B\n",
    "df_envio_seg = pd.crosstab(index = df_envio.modo_envio, columns = df_envio.segmento_cliente).sort_values(\"B2B\")\n",
    "\n",
    "df_envio_seg"
   ]
  },
  {
   "cell_type": "code",
   "execution_count": null,
   "metadata": {
    "colab": {
     "base_uri": "https://localhost:8080/",
     "height": 206
    },
    "executionInfo": {
     "elapsed": 323,
     "status": "ok",
     "timestamp": 1683895535903,
     "user": {
      "displayName": "Afonso Augusto Rios",
      "userId": "05972796828124452071"
     },
     "user_tz": 180
    },
    "id": "ehCWQfSrRLa3",
    "outputId": "54f8ad89-b63d-46f2-ff39-89b0bfa8fd9e"
   },
   "outputs": [],
   "source": [
    "# Criando uma tabela cruzada (crosstab) com os modos de envio divididos pelos clientes B2C e B2B nomarlizado\n",
    "df_envio_normalizado = pd.crosstab(index = df_envio.modo_envio, columns = df_envio.segmento_cliente, normalize = \"index\")\n",
    "\n",
    "df_envio_normalizado"
   ]
  },
  {
   "cell_type": "markdown",
   "metadata": {
    "id": "nL4W3JaWEVyi"
   },
   "source": [
    "#### Gerando o gráfico"
   ]
  },
  {
   "cell_type": "code",
   "execution_count": null,
   "metadata": {
    "id": "tAyjAuyTfXnp"
   },
   "outputs": [],
   "source": [
    "# Função para escrita de texto utilizando diferentes cores. Não existe uma \n",
    "# função nativa para isso. (Adaptado de https://github.com/empathy87/storytelling-with-data)\n",
    "from matplotlib import transforms\n",
    "\n",
    "def texto_colorido(x, y, texto, cores, esp=20, ax=None, **kw):\n",
    "    cores = list(reversed(cores))\n",
    "    t = ax.transData\n",
    "    canvas = ax.figure.canvas\n",
    "\n",
    "    for i, linha in enumerate(reversed(texto.split('\\n'))):\n",
    "        frases = linha.split('||')\n",
    "        for s, cor in zip(frases, cores[i]):\n",
    "            texto = ax.text(x, y, s, color=cor, transform=t, **kw)\n",
    "            texto.draw(canvas.get_renderer())\n",
    "            ex = texto.get_window_extent()\n",
    "            t = transforms.offset_copy(texto._transform, x=ex.width, \n",
    "                                       units='dots')\n",
    "\n",
    "        t = transforms.offset_copy(ax.transData, x=0, y=(i + 1) * esp, units='dots')"
   ]
  },
  {
   "cell_type": "code",
   "execution_count": null,
   "metadata": {
    "id": "_WiAez5LEVyj"
   },
   "outputs": [],
   "source": [
    "## Configurando o gráfico com parâmetros que potencializam a visualização dos dados\n",
    "\n",
    "# Importando as bibliotecas\n",
    "import matplotlib.pyplot as plt\n",
    "\n",
    "# Área do gráfico e tema da visualização\n",
    "fig, axs = plt.subplots(1, 2, figsize=(10,6), sharey = True)\n",
    "\n",
    "# Definindo as cores do gráfico\n",
    "cores = [AZUL2, AZUL5]\n",
    "\n",
    "# GRÁFICO 1 - Barras empilhadas\n",
    "\n",
    "axs[0].barh(df_envio_seg.index, df_envio_seg['B2B'], color = cores[0])\n",
    "axs[0].barh(df_envio_seg.index, df_envio_seg['B2C'], left = df_envio_seg['B2B'], color = cores[1])\n",
    "axs[0].set_title('Em valores absolutos\\n', color = CINZA2)\n",
    "axs[0].set_xlabel('')\n",
    "axs[0].set_ylabel('')\n",
    "axs[0].set_xticklabels([])\n",
    "axs[0].yaxis.set_tick_params(labelsize=14, color = CINZA2)\n",
    "axs[0].set_frame_on(False)\n",
    "\n",
    "# remover todos os ticks do eixo x e y\n",
    "axs[0].tick_params(axis='both', which='both', length=0)\n",
    "\n",
    "texto_colorido(0, 3.5, '$\\\\bf{B2B}$ | || $\\\\bf{B2C}$', cores = [cores], ax=axs[0], fontsize=12) # legenda\n",
    "\n",
    "#######################################\n",
    "\n",
    "# GRÁFICO 2 - Barras empilhadas 100 %\n",
    "\n",
    "axs[1].barh(df_envio_normalizado.index, df_envio_normalizado['B2B'], color = cores[0])\n",
    "axs[1].barh(df_envio_normalizado.index, df_envio_normalizado['B2C'], left = df_envio_normalizado['B2B'], color = cores[1])\n",
    "axs[1].set_title('Em porcentagem\\n', color = CINZA2)\n",
    "axs[1].set_xlabel('100%', color = CINZA2, size = 14, loc='right')\n",
    "axs[1].set_ylabel('')\n",
    "axs[1].set_xticklabels([])\n",
    "axs[1].set_frame_on(False)\n",
    "\n",
    "# remover todos os ticks do eixo x e y\n",
    "axs[1].tick_params(axis='both', which='both', length=0)\n",
    "\n",
    "texto_colorido(0, 3.5, '$\\\\bf{B2B}$ | || $\\\\bf{B2C}$', cores = [cores], ax=axs[1], fontsize=12) # legenda\n",
    "\n",
    "#######################################\n",
    "\n",
    "# Título dos gráficos\n",
    "fig.suptitle(\"Modo de envio mais utilizado pelos clientes B2B/B2C (2016-2019)\\n\", \n",
    "              fontsize=18, color=CINZA1, ha = 'right', x = 0.95, y = 1.05)\n",
    "\n",
    "# Valores das barras\n",
    "for container in axs[0].containers:\n",
    "    labels = [str(valor.get_width()) if valor.get_width() > 300 else '' for valor in container]\n",
    "    axs[0].bar_label(container, label_type='center', labels = labels, size = 12, color = CINZA5, fontweight='bold')\n",
    "\n",
    "for container in axs[1].containers:\n",
    "    labels = [f'{valor.get_width()*100:.1f}%' for valor in container]\n",
    "    axs[1].bar_label(container, label_type='center', labels = labels, size = 12, color = CINZA5, fontweight='bold')\n",
    "\n",
    "fig.show()"
   ]
  },
  {
   "cell_type": "markdown",
   "metadata": {
    "id": "e6iExl0rEVyj"
   },
   "source": [
    "\n",
    "\n",
    "\n",
    "\n",
    "\n",
    "<font color=green size=4> Conclusões: </font>\n",
    "\n",
    "---\n",
    "O gráfico de barras empilhadas se assemelha ao gráfico de colunas na aplicação. Neste exemplo, apresentamos dois tipos de gráficos de barras empilhadas: o 1º focando nas diferenças absolutas (entre barras) e relativas (na mesma barra) dos dados e o 2º focando apenas nas diferenças relativas entre os dados.\n",
    "\n",
    "Como sugestão, podemos testar essa técnica verificando o comportamento em cada ano ou com outros valores em nossa base de dados como, por exemplo, entre os tipos de produto e modos de entrega."
   ]
  },
  {
   "cell_type": "markdown",
   "metadata": {
    "id": "5NvxSVNjAmb2"
   },
   "source": [
    "# **Aula 3 - Séries de tempo**"
   ]
  },
  {
   "cell_type": "markdown",
   "metadata": {
    "id": "ROb8IYUGTeDJ"
   },
   "source": [
    "<img src=\"https://github.com/alura-cursos/dataviz-graficos/blob/b86ed16b3652d0226512a1ecf74d044d197723d8/imagens/Tipos_Graficos/Gr%C3%A1fico%20(s%C3%A9ries%20de%20tempo).png?raw=true\" alt=\"inserir alt\" height=\"343\">\n",
    "\n",
    "<font size=2>Fonte: Andrew Abela (Extreme Presentation/Biuwer)</font>\n"
   ]
  },
  {
   "cell_type": "markdown",
   "metadata": {
    "id": "1r_0T0wg6ByW"
   },
   "source": [
    "## **3.1 Gráfico de linha simples**\n",
    "\n",
    "---\n",
    "\n"
   ]
  },
  {
   "cell_type": "markdown",
   "metadata": {
    "id": "pKE9RgAlzeoR"
   },
   "source": [
    "### **Pergunta 5 -** Qual o total de vendas por trimestre do estado de São Paulo?"
   ]
  },
  {
   "cell_type": "markdown",
   "metadata": {
    "id": "h7eQ1KAFzeon"
   },
   "source": [
    "#### Tratando os dados para gerar a visualização"
   ]
  },
  {
   "cell_type": "code",
   "execution_count": null,
   "metadata": {
    "id": "topLDuXHzeoo"
   },
   "outputs": [],
   "source": [
    "# Criando um df com os dados desejados\n",
    "df_sp = vendas.copy()\n",
    "df_sp = df_sp.query('estado == \"São Paulo\"')[[\"data_pedido\", \"vendas\"]]\n",
    "\n",
    "# Agrupando as vendas por trimestre e arredondando valores para milhares\n",
    "df_sp.set_index('data_pedido', inplace = True)\n",
    "df_sp = df_sp.resample('Q').agg('sum')\n",
    "df_sp[\"vendas\"] = round(df_sp[\"vendas\"] / 1e3 , 2)\n",
    "df_sp = df_sp.reset_index()\n",
    "df_sp"
   ]
  },
  {
   "cell_type": "markdown",
   "metadata": {
    "id": "MnA9gQ7xzeoq"
   },
   "source": [
    "#### Gerando o gráfico"
   ]
  },
  {
   "cell_type": "code",
   "execution_count": null,
   "metadata": {
    "id": "qRrgpl4rzeor"
   },
   "outputs": [],
   "source": [
    "## Gerando a função para o gráfico de linha\n",
    "\n",
    "def grafico_vendas_sp_tri():\n",
    "  # Importando as bibliotecas\n",
    "  import matplotlib.pyplot as plt\n",
    "\n",
    "  # Área do gráfico e tema da visualização\n",
    "  fig, ax = plt.subplots(figsize=(14,4))\n",
    "\n",
    "  # Gráfico de linha\n",
    "  pontos_a_marcar = [True if mes == 12 else False for mes in df_sp['data_pedido'].dt.month]\n",
    "\n",
    "  ax.plot(df_sp['data_pedido'], df_sp['vendas'], lw = 3, color = AZUL5, marker = 'o',\n",
    "                markersize = 10, markerfacecolor = AZUL2, markevery = pontos_a_marcar)                                         \n",
    "\n",
    "  ## Personalizando o gráfico\n",
    "  ax.set_title('Vendas por trimestre no estado de São Paulo', fontsize = 18, color = CINZA1, loc='left')\n",
    "  ax.text(0.3, 0.95, \"De 2016 a 2019 (em milhares de reais)\", transform=ax.transAxes, color= CINZA2, fontsize=12, ha='right', va='center')\n",
    "  ax.set_xlabel('')\n",
    "  ax.set_ylabel('')\n",
    "  ax.set_yticklabels([])\n",
    "  ax.set_frame_on(False)\n",
    "  ax.xaxis.set_tick_params(labelsize=14, labelcolor = CINZA2)\n",
    "\n",
    "  # remover todos os ticks do eixo x e y\n",
    "  ax.tick_params(axis='both', which='both', length=0)\n",
    "\n",
    "  ## Ajustes no eixo y\n",
    "  # Descrevendo o limite mínimo e máximo do eixo y\n",
    "  plt.ylim(0, 400)\n",
    "\n",
    "  return ax\n",
    "\n",
    "ax = grafico_vendas_sp_tri()"
   ]
  },
  {
   "cell_type": "markdown",
   "metadata": {
    "id": "wHp3YFLcg_Sh"
   },
   "source": [
    "## **3.2 Definindo intervalos de tempo**\n",
    "\n",
    "---\n",
    "\n"
   ]
  },
  {
   "cell_type": "code",
   "execution_count": null,
   "metadata": {
    "id": "m_Dt4Hv3UJbY"
   },
   "outputs": [],
   "source": [
    "## Configurando o gráfico com parâmetros que potencializam a visualização dos dados\n",
    "\n",
    "# Importando as bibliotecas\n",
    "import matplotlib.dates as mdates\n",
    "\n",
    "# Chamando a função que gera o gráfico de linha\n",
    "ax = grafico_vendas_sp_tri()\n",
    "\n",
    "## Ajustes no eixo x\n",
    "# Definindo o intervalo em trimestres e colocando os nomes dos meses nos labels\n",
    "ax.xaxis.set_major_locator(mdates.MonthLocator(interval = 3))\n",
    "ax.xaxis.set_major_formatter(mdates.DateFormatter('%b'))\n",
    "x_labels = ['Mar', 'Jun', 'Set', 'Dez'] * 4\n",
    "ax.set_xticks(df_sp.data_pedido)\n",
    "ax.set_xticklabels(x_labels, ha = 'center')\n",
    "\n",
    "# Ajustando o eixo x colocando um nível acima de granularidade por meio da exibição do ano\n",
    "texto = [16*\" \" + str(i) + 16*\" \" for i in range(2016, 2020)]\n",
    "ax.text(ax.get_xbound()[0] + 35, - 80, f'|{texto[0]}|{texto[1]}|{texto[2]}|{texto[3]}|', fontsize=14, color=CINZA2)\n",
    "\n",
    "# Destacando os valores do 4º trimestre\n",
    "ano = 0\n",
    "for i in range(3, len(df_sp[\"vendas\"]), 4):\n",
    "    ax.text(x = ax.get_xticks()[i], y = df_sp[\"vendas\"][i] + 20, s = f\"R$ {df_sp['vendas'][i]} mil\", color = AZUL2, weight = \"bold\", fontsize = 10)\n",
    "    ax.text(x = ax.get_xticks()[i] + 160, y = df_sp[\"vendas\"][i] + 20, s = f\"(4º Tri {2016 + ano})\", color = CINZA2, weight = \"bold\", fontsize = 10)\n",
    "    ano +=1\n",
    "\n",
    "fig = ax.get_figure()"
   ]
  },
  {
   "cell_type": "markdown",
   "metadata": {
    "id": "yi4mXqvQzeos"
   },
   "source": [
    "<font color=green size=4> Conclusões: </font>\n",
    "\n",
    "---\n",
    "\n",
    "Quando estamos visualizando dados com muitos períodos de tempo é ideal trabalharmos com gráficos de linha, pois elas representam bem essa progressão dos valores com o tempo. Aqui utilizamos outro recurso visual que é o de destaque dos pontos de interesse (4º trimestre de cada ano) apresentando a tendência do dado nesse período específico de tempo.\n",
    "\n",
    "Como sugestão, podemos testar essa técnica também com outros valores em nossa base de dados como, por exemplo, as vendas no seu estado de interesse ou que você mora, ou até em intervalos de tempo diferentes: por mês, semestre, etc."
   ]
  },
  {
   "cell_type": "markdown",
   "metadata": {
    "id": "NrslRmfihO__"
   },
   "source": [
    "# **3.3 - Gráfico de linhas**\n",
    "\n",
    "---\n",
    "\n"
   ]
  },
  {
   "cell_type": "markdown",
   "metadata": {
    "id": "_ubWJruVc4NY"
   },
   "source": [
    "### **Pergunta 6 -** Qual o faturamento por trimestre em cada região?"
   ]
  },
  {
   "cell_type": "markdown",
   "metadata": {
    "id": "54Lj3KS6c4Nc"
   },
   "source": [
    "#### Tratando os dados para gerar a visualização"
   ]
  },
  {
   "cell_type": "code",
   "execution_count": null,
   "metadata": {
    "colab": {
     "base_uri": "https://localhost:8080/",
     "height": 455
    },
    "executionInfo": {
     "elapsed": 309,
     "status": "ok",
     "timestamp": 1683904438124,
     "user": {
      "displayName": "Afonso Augusto Rios",
      "userId": "05972796828124452071"
     },
     "user_tz": 180
    },
    "id": "ufVKlbxYc4Nd",
    "outputId": "7fa4b679-bcc1-4993-913e-99d931dc0bc0"
   },
   "outputs": [],
   "source": [
    "# Criando um df com os dados desejados\n",
    "df_regiao = vendas.copy()\n",
    "df_regiao = df_regiao[[\"regiao\", \"data_pedido\", \"vendas\"]]\n",
    "\n",
    "# Criando uma tabela cruzada (crosstab) com os valores de venda por dia por região\n",
    "df_regiao = pd.crosstab(index = df_regiao.data_pedido, columns = df_regiao.regiao, values = df_regiao.vendas, aggfunc=\"sum\")\n",
    "\n",
    "# Ajustando a tabela em ordem descrescente dos estados que mais executam vendas\n",
    "df_regiao = df_regiao[[\"Sudeste\", \"Nordeste\", \"Centro-Oeste\", \"Norte\", \"Sul\"]]\n",
    "df_regiao"
   ]
  },
  {
   "cell_type": "code",
   "execution_count": null,
   "metadata": {
    "colab": {
     "base_uri": "https://localhost:8080/",
     "height": 582
    },
    "executionInfo": {
     "elapsed": 295,
     "status": "ok",
     "timestamp": 1683904442748,
     "user": {
      "displayName": "Afonso Augusto Rios",
      "userId": "05972796828124452071"
     },
     "user_tz": 180
    },
    "id": "rQCkDOe9jmdF",
    "outputId": "e6611207-f761-4422-dc88-29d1df717f8a"
   },
   "outputs": [],
   "source": [
    "# Agrupando as vendas por trimestre\n",
    "df_regiao = df_regiao.resample('Q').agg('sum')\n",
    "df_regiao = round(df_regiao/1e3, 2)\n",
    "df_regiao"
   ]
  },
  {
   "cell_type": "markdown",
   "metadata": {
    "id": "BKEOs7Dmc4Nd"
   },
   "source": [
    "#### Gerando o gráfico"
   ]
  },
  {
   "cell_type": "code",
   "execution_count": null,
   "metadata": {},
   "outputs": [],
   "source": [
    "# Importando a biblioteca\n",
    "import plotly.express as px\n",
    "\n",
    "# Gerando um gráfico de linha com o faturamento da loja por trimestre dividido por região\n",
    "fig = px.line(df_regiao, x=df_regiao.index, y=df_regiao.columns, markers = True, labels={\"regiao\": \"Região\"},\n",
    "              color_discrete_sequence=[AZUL2, VERMELHO1, AMARELO1 , VERDE1, CINZA3])\n",
    "\n",
    "# Ajustando o layout do gráfico\n",
    "fig.update_layout(width=1300, height=600, font_family = 'DejaVu Sans', font_size=15, \n",
    "                  font_color= CINZA2, title_font_color= CINZA1, title_font_size=24, \n",
    "                  title_text='Faturamento da loja de departamentos por trimestre' +\n",
    "                             '<br><sup size=1 style=\"color:#555655\">De 2016 a 2019</sup>',\n",
    "                  xaxis_title='', yaxis_title='', plot_bgcolor= CINZA5)\n",
    "\n",
    "# Ajustando os ticks do eixo y para o formato em milhar\n",
    "fig.update_yaxes(tickprefix=\"R$ \", ticksuffix=\" mil\")\n",
    "\n",
    "# Ajustando o eixo x com os labels dos trimestres\n",
    "labels = ['T1<br>2016', 'T2<br>2016', 'T3<br>2016', 'T4<br>2016', \n",
    "          'T1<br>2017', 'T2<br>2017', 'T3<br>2017', 'T4<br>2017',\n",
    "          'T1<br>2018', 'T2<br>2018', 'T3<br>2018', 'T4<br>2018',\n",
    "          'T1<br>2019', 'T2<br>2019', 'T3<br>2019', 'T4<br>2019']\n",
    "fig.update_xaxes(ticktext = labels, tickvals=df_regiao.index)\n",
    "\n",
    "fig.show()\n"
   ]
  },
  {
   "cell_type": "code",
   "execution_count": null,
   "metadata": {
    "id": "aX6aTgYac4Nd"
   },
   "outputs": [],
   "source": [
    "# Importando a biblioteca\n",
    "import plotly.express as px\n",
    "\n",
    "# Gerando um gráfico de linha com o faturamento da loja por trimestre dividido por região\n",
    "fig = px.line(df_regiao, x=df_regiao.index, y=df_regiao.columns, markers = True, labels={\"regiao\": \"Região\"},\n",
    "              color_discrete_sequence=[AZUL2, VERMELHO1, AMARELO1 , VERDE1, CINZA3])\n",
    "\n",
    "# Ajustando o layout do gráfico\n",
    "fig.update_layout(width=1300, height=600, font_family = 'DejaVu Sans', font_size=15, \n",
    "                  font_color= CINZA2, title_font_color= CINZA1, title_font_size=24, \n",
    "                  title_text='Faturamento da loja de departamentos por trimestre' +\n",
    "                             '<br><sup size=1 style=\"color:#555655\">De 2016 a 2019</sup>',\n",
    "                  xaxis_title='', yaxis_title='', plot_bgcolor= CINZA5)\n",
    "\n",
    "# Ajustando os ticks do eixo y para o formato em milhar\n",
    "fig.update_yaxes(tickprefix=\"R$ \", ticksuffix=\" mil\")\n",
    "\n",
    "# Ajustando o eixo x com os labels dos trimestres\n",
    "labels = ['T1<br>2016', 'T2<br>2016', 'T3<br>2016', 'T4<br>2016', \n",
    "          'T1<br>2017', 'T2<br>2017', 'T3<br>2017', 'T4<br>2017',\n",
    "          'T1<br>2018', 'T2<br>2018', 'T3<br>2018', 'T4<br>2018',\n",
    "          'T1<br>2019', 'T2<br>2019', 'T3<br>2019', 'T4<br>2019']\n",
    "fig.update_xaxes(ticktext = labels, tickvals=df_regiao.index)\n",
    "\n",
    "fig.show()"
   ]
  },
  {
   "cell_type": "markdown",
   "metadata": {
    "id": "vlltqqeXiQ2m"
   },
   "source": [
    "# **3.4 - Personalizando o texto informativo (hover)**\n",
    "\n",
    "\n",
    "---\n",
    "\n"
   ]
  },
  {
   "cell_type": "code",
   "execution_count": null,
   "metadata": {
    "id": "CHlMxVHtiJ1R"
   },
   "outputs": [],
   "source": [
    "# Dados ao passar o mouse\n",
    "fig.update_traces(mode=\"markers+lines\", hovertemplate = \"<b>Período:</b> %{x} <br> <b>Faturamento:</b> %{y}\")\n",
    "# fig.update_layout(hovermode=\"closest\")    # para exibir apenas do dado que passamos o mouse\n",
    "# fig.update_layout(hovermode=\"x\")          # para exibir todos os dados do período em cada linha \n",
    "# fig.update_layout(hovermode=\"x unified\")  # para exibir o resumo de todos os dados no período\n",
    "\n",
    "fig.show()"
   ]
  },
  {
   "cell_type": "markdown",
   "metadata": {
    "id": "_uIMl0NHc4Nd"
   },
   "source": [
    "<font color=green size=4> Conclusões: </font>\n",
    "\n",
    "---\n",
    "\n",
    "O ponto mais interessante nesse gráfico, gerado pelo plotly, é a seleção de dados de interesse, comparando diferentes regiões. É ideal não possuir muitas linhas para representação dos dados, para evitar uma dificuldade na análise das variáveis de interesse. Esse gráfico dinâmico também possibilita verificar os dados de interesse passando o mouse por cima do ponto desejado, o que evita a necessidade de escrita de cada valor nos pontos.\n",
    "\n",
    "Como sugestão, podemos testar essa técnica também com outros valores em nossa base de dados como, por exemplo, as vendas por estado em uma dada região, ou até em intervalos de tempo diferentes: por semestre e ano."
   ]
  },
  {
   "cell_type": "markdown",
   "metadata": {
    "id": "GP5WxJh8AP7U"
   },
   "source": [
    "# **Aula 4 - Distribuindo dados**\n",
    "\n",
    "\n"
   ]
  },
  {
   "cell_type": "markdown",
   "metadata": {
    "id": "SRUYr8PaAP7Z"
   },
   "source": [
    "### **Situação-problema 2**\n",
    "Uma fábrica de produtos de higiene e limpeza seleciona amostras de seus produtos fabricados regularmente e documenta o volume e as dimensões de seus produtos para que estejam dentro dos critérios de qualidade. Você como cientista de dados recebeu algumas amostras para analisar e descrever algumas métricas (média e mediana, por exemplo) das amostras utilizando gráficos para facilitar a compreensão desses valores. \n",
    "\n",
    "Nas próximas duas aulas, vamos trabalhar com duas bases de dados, sendo:\n",
    "1. Volumes de um amaciante de 1L em um total de 1000 amostras medidas.\n",
    "2. Medidas de altura, comprimento e largura de uma caixa de sabão em pó em um total de 1000 amostras medidas."
   ]
  },
  {
   "cell_type": "markdown",
   "metadata": {
    "id": "jSffEwr1FPAC"
   },
   "source": [
    "\n",
    "#### **Base de dados 1 - Amostra dos volumes do amaciante**"
   ]
  },
  {
   "cell_type": "code",
   "execution_count": null,
   "metadata": {
    "id": "uf0_yYaOAP7a"
   },
   "outputs": [],
   "source": [
    "import pandas as pd"
   ]
  },
  {
   "cell_type": "code",
   "execution_count": null,
   "metadata": {
    "id": "2aimPHe6AP7a"
   },
   "outputs": [],
   "source": [
    "# Importando a base de dados dos volumes de um amaciante em 1000 amostras realizadas\n",
    "vol_amaciante = pd.read_csv(\"https://raw.githubusercontent.com/alura-cursos/dataviz-graficos/master/dados/volume_amaciante.csv\")\n",
    "\n",
    "vol_amaciante.head()"
   ]
  },
  {
   "cell_type": "code",
   "execution_count": null,
   "metadata": {
    "id": "hptB2KscAP7a"
   },
   "outputs": [],
   "source": [
    "# Verificando a estatística descritiva das amostras de volume em forma de tabela\n",
    "..."
   ]
  },
  {
   "cell_type": "markdown",
   "metadata": {
    "id": "ssZbZe4zAP7a"
   },
   "source": [
    "Após visualizarmos de maneira rápida os dados que possuímos, vamos partir para as análises que podemos fazer com esses dados e quais os gráficos de distribuição vamos utilizar a fim de apresentar esse tipo de informação.\n",
    "\n",
    "### **Questionamentos**\n",
    "\n",
    "1.   Como estão distribuídos os dados dos volumes da amostra do amaciante? Qual seria seu valor central (média e mediana)\n",
    "\n",
    "2.   Como estão distribuídos os dados dos volumes do amaciante de acordo com a mediana e os quartis? Possuo dados discrepantes?\n",
    "\n",
    "\n",
    "\n"
   ]
  },
  {
   "cell_type": "markdown",
   "metadata": {
    "id": "UhtlebbKBFjp"
   },
   "source": [
    "## **4.1 - Histograma**\n",
    "\n",
    "---\n",
    "\n"
   ]
  },
  {
   "cell_type": "markdown",
   "metadata": {
    "id": "YiioTkl4jjng"
   },
   "source": [
    "<img src=\"https://github.com/alura-cursos/dataviz-graficos/blob/3853c7870952376102f2dd09593ef2965c19318c/imagens/Tipos_Graficos/Gr%C3%A1ficos%20de%20distribui%C3%A7%C3%A3o%20(distribuindo%20dados).png?raw=true\" alt=\"inserir alt\" height=\"343\">\n",
    "\n",
    "\n",
    "<font size=2>Fonte: Andrew Abela (Extreme Presentation/Biuwer)</font>\n"
   ]
  },
  {
   "cell_type": "markdown",
   "metadata": {
    "id": "TgJynN1NAP7a"
   },
   "source": [
    "### **Pergunta 1 -** Como estão distribuídos os dados dos volumes da amostra do amaciante? Qual seria seu valor central (média e mediana)?"
   ]
  },
  {
   "cell_type": "markdown",
   "metadata": {
    "id": "xv3kTMF9AP7a"
   },
   "source": [
    "#### Gerando o gráfico"
   ]
  },
  {
   "cell_type": "code",
   "execution_count": null,
   "metadata": {
    "id": "HDyCrEsUAP7a"
   },
   "outputs": [],
   "source": [
    "## Configurando o gráfico com parâmetros que potencializam a visualização dos dados\n",
    "\n",
    "# Importando as bibliotecas\n",
    "import matplotlib.pyplot as plt\n",
    "import seaborn as sns\n",
    "\n",
    "# Área do gráfico e tema da visualização\n",
    "fig, ax = plt.subplots(figsize=(12,4))\n",
    "sns.set_theme(style=\"white\")\n",
    "\n",
    "# Gerando o histograma sem estimativa de densidade\n",
    "...  # ajustando o intervalo pelo largura dos bins\n",
    "...  # ajustando o intervalo pelo quantidade de bins\n",
    "\n",
    "# # Personalizando o gráfico\n",
    "plt.suptitle('Distribuição dos volumes do amaciante', size=18, color=CINZA1, ha = 'right', x = 0.535, y = 1.05)\n",
    "plt.title('para uma amostra de 1000 unidades', fontsize=14, color=CINZA2, pad = 15, loc = \"left\")\n",
    "ax.set_xlabel('Volume (ml)', fontsize = 14)\n",
    "ax.set_ylabel('Quantidade', fontsize = 14)\n",
    "ax.yaxis.set_tick_params(labelsize=12, labelcolor = CINZA2)\n",
    "ax.xaxis.set_tick_params(labelsize=12, labelcolor = CINZA2)\n",
    "sns.despine()\n",
    "\n",
    "plt.show()"
   ]
  },
  {
   "cell_type": "markdown",
   "metadata": {
    "id": "izetzI6sv3eZ"
   },
   "source": [
    "<font color=green size=4> Conclusões: </font>\n",
    "\n",
    "---\n",
    "\n",
    "O gráfico de histograma é ideal para quando queremos saber como uma amostra de dados ou população está distribuída. Como podemos observar, o número de intervalos ou a sua largura altera um pouco a visualização, mas não altera os valores centrais da sua distibuição de dados: média e mediana. "
   ]
  },
  {
   "cell_type": "markdown",
   "metadata": {
    "id": "xIZDl9S9vED2"
   },
   "source": [
    "## **4.2 - Gráfico de densidade**\n",
    "\n",
    "---\n",
    "\n"
   ]
  },
  {
   "cell_type": "code",
   "execution_count": null,
   "metadata": {
    "id": "ske5KLUfipTJ"
   },
   "outputs": [],
   "source": [
    "# Gerando a função que desenha a Densidade\n",
    "\n",
    "def grafico_densidade():\n",
    "  # Importando as bibliotecas\n",
    "  import matplotlib.pyplot as plt\n",
    "  import seaborn as sns\n",
    "\n",
    "  # Área do gráfico e tema da visualização\n",
    "  fig, ax = plt.subplots(figsize=(15,4))\n",
    "  sns.set_theme(style=\"white\")\n",
    "\n",
    "  # Gerando a curva de densidade\n",
    "  ...\n",
    "\n",
    "  # # Personalizando o gráfico\n",
    "  plt.suptitle('Distribuição dos volumes do amaciante (curva de densidade)', size=18, color=CINZA1, ha = 'right', x = 0.635, y = 1.05)\n",
    "  plt.title('para uma amostra de 1000 unidades', fontsize=14, color=CINZA2, pad = 15, loc = \"left\")\n",
    "  ax.set_xlabel('Volume', fontsize = 14)\n",
    "  ax.set_ylabel('Densidade', fontsize = 14)\n",
    "  ax.xaxis.set_tick_params(labelsize=12, labelcolor = CINZA2)\n",
    "  ax.yaxis.set_tick_params(labelsize=12, labelcolor = CINZA2)\n",
    "  ax.set_xlim(vol_amaciante.Volume.min(), vol_amaciante.Volume.max())\n",
    "  sns.despine(left = True, top = True)\n",
    "\n",
    "  return ax\n",
    "\n",
    "ax = grafico_densidade()"
   ]
  },
  {
   "cell_type": "markdown",
   "metadata": {
    "id": "J5eTR0vrF7kO"
   },
   "source": [
    "## **4.3 - Adicionando linhas ao gráfico**\n",
    "\n",
    "---\n",
    "\n"
   ]
  },
  {
   "cell_type": "code",
   "execution_count": null,
   "metadata": {
    "id": "gu2JimeYFiCw"
   },
   "outputs": [],
   "source": [
    "## Configurando o gráfico com parâmetros que potencializam a visualização dos dados\n",
    "\n",
    "# Chamando a função que gera o gráfico de densidade\n",
    "ax = grafico_densidade()\n",
    "\n",
    "## Personalizando o gráfico\n",
    "ax.set_ylabel('')\n",
    "ax.set_yticklabels([])\n",
    "\n",
    "# Gerando as linhas de média, mediana e moda\n",
    "...\n",
    "...\n",
    "\n",
    "# Definindo as cores de cada estatística descritiva\n",
    "cores = [LARANJA1, VERDE1, CINZA3]\n",
    "\n",
    "# gerando 1 ou mais linhas na vertical a partir de um valor de x\n",
    "...\n",
    "\n",
    "# Anotando os valores de média, mediana e moda no gráfico\n",
    "for i in range(len(estat)):\n",
    "  ax.text(0.75, (0.6 - i/10), f'{desc[i]} = {estat[i]} ml', fontsize=14, color = cores[i], transform=ax.transAxes)\n",
    "\n",
    "fig = ax.get_figure()"
   ]
  },
  {
   "cell_type": "markdown",
   "metadata": {
    "id": "ZuCIA5WIAP7b"
   },
   "source": [
    "<font color=green size=4> Conclusões: </font>\n",
    "\n",
    "---\n",
    "\n",
    "O gráfico de densidade (histograma de linha) é ideal para muitas observações.\n",
    "\n",
    "Neste exemplo, podemos verificar uma distribuição normal, com uma leve assimetria à esquerda (mediana> média). A moda também está presente no gráfico. Essas 3 medidas de tendência central são importantes para a estatística descritiva dos dados e auxiliam na construção de modelos e análise dos dados."
   ]
  },
  {
   "cell_type": "markdown",
   "metadata": {
    "id": "2QxHL_XYrUSs"
   },
   "source": [
    "## **4.4 - Boxplot**\n",
    "\n",
    "---\n",
    "\n"
   ]
  },
  {
   "cell_type": "markdown",
   "metadata": {
    "id": "vw5UTufi2DDV"
   },
   "source": [
    "### **Pergunta 2 -** Como estão distribuídos os dados dos volumes do amaciante de acordo com a mediana e os quartis? Possuo dados discrepantes?"
   ]
  },
  {
   "cell_type": "markdown",
   "metadata": {
    "id": "5RYvVm5J2DDh"
   },
   "source": [
    "#### Gerando o gráfico"
   ]
  },
  {
   "cell_type": "code",
   "execution_count": null,
   "metadata": {
    "id": "sUxOZwa82DDi"
   },
   "outputs": [],
   "source": [
    "## Configurando o gráfico com parâmetros que potencializam a visualização dos dados\n",
    "\n",
    "# Importando as bibliotecas\n",
    "import matplotlib.pyplot as plt\n",
    "from matplotlib.patches import Ellipse\n",
    "import seaborn as sns\n",
    "\n",
    "# Área do gráfico e tema da visualização\n",
    "fig, ax = plt.subplots(figsize=(6,8))\n",
    "sns.set_theme(style=\"white\")\n",
    "\n",
    "# Gerando o boxplot\n",
    "...\n",
    "\n",
    "# ## Personalizando o gráfico\n",
    "# plt.suptitle('Boxplot do volume do amaciante', size=18, color=CINZA1, ha = 'right', x = 0.81, y = 0.97)\n",
    "# plt.title('para uma amostra de 1000 unidades', fontsize=14, color=CINZA2, pad = 15, loc = \"left\")\n",
    "# ax.set_xlabel('')\n",
    "# ax.set_ylabel('Volume (ml)', fontsize = 14)\n",
    "# ax.yaxis.set_tick_params(labelsize=12, labelcolor = CINZA2)\n",
    "# sns.despine(bottom=True)\n",
    "\n",
    "# # Gerando outros elementos visuais (elipses dos outliers)\n",
    "# y_min, y_max = ax.get_ybound()\n",
    "# outlier_sup = Ellipse((0, y_max - 0.27), width = 0.1, height = 0.46, color=VERMELHO1, fill=False)\n",
    "# outlier_inf = Ellipse((0, y_min + 0.4), width = 0.1, height = 0.6, color=VERMELHO1, fill=False)\n",
    "# ax.add_patch(outlier_sup)\n",
    "# ax.add_patch(outlier_inf)\n",
    "\n",
    "# # Adicionando a explicação dos elementos de um boxplot\n",
    "# ax.annotate(\"Outliers\", xy=(0 + 0.05, y_max - 0.27), xycoords='data',    # coordenadas do ponto desejado\n",
    "#             bbox=dict(boxstyle=\"round\", fc=CINZA5, ec=VERMELHO1),         # caixa de texto\n",
    "#             xytext=(50, 0), textcoords='offset points',                   # posição do texto\n",
    "#             arrowprops=dict(arrowstyle=\"->\", color=VERMELHO1))            # propriedades da seta\n",
    "\n",
    "# ax.annotate(\"Outliers\", xy=(0 + 0.05, y_min + 0.4), xycoords='data',\n",
    "#             bbox=dict(boxstyle=\"round\", fc=CINZA5, ec=VERMELHO1),\n",
    "#             xytext=(50, 0), textcoords='offset points',\n",
    "#             arrowprops=dict(arrowstyle=\"->\", color=VERMELHO1))\n",
    "\n",
    "# ax.annotate(\"1º Quartil / 25%\", xy=(0.4, vol_amaciante.quantile(.25)), xycoords='data',\n",
    "#             bbox=dict(boxstyle=\"round\", fc=CINZA5, ec=CINZA3),\n",
    "#             xytext=(50, 0), textcoords='offset points',\n",
    "#             arrowprops=dict(arrowstyle=\"->\", color=CINZA3))\n",
    "\n",
    "# ax.annotate(\"2º Quartil / Mediana\", xy=(0.4, vol_amaciante.median()), xycoords='data',\n",
    "#             bbox=dict(boxstyle=\"round\", fc=CINZA5, ec=CINZA3),\n",
    "#             xytext=(50, 0), textcoords='offset points',\n",
    "#             arrowprops=dict(arrowstyle=\"->\", color=CINZA3))\n",
    "\n",
    "# ax.annotate(\"3º Quartil / 75%\", xy=(0.4, vol_amaciante.quantile(.75)), xycoords='data',\n",
    "#             bbox=dict(boxstyle=\"round\", fc=CINZA5, ec=CINZA3),\n",
    "#             xytext=(50, 0), textcoords='offset points',\n",
    "#             arrowprops=dict(arrowstyle=\"->\", color=CINZA3))          \n",
    "\n",
    "plt.show()"
   ]
  },
  {
   "cell_type": "markdown",
   "metadata": {
    "id": "zJXXnP7z2DDi"
   },
   "source": [
    "<font color=green size=4> Conclusões: </font>\n",
    "\n",
    "---\n",
    "\n",
    "O gráfico de boxplot é ideal para representar um conjunto de dados de acordo com 5 medidas de interesse: valor máximo, mínimo, 1º quartil (onde estão situados os primeiros 25% dos dados), 2º quartil ou mediana (onde estão situados 50% dos dados) e 3º quartil (onde estão situados 75% dos dados). \n",
    "\n",
    "Há também os outliers que são considerados os pontos discrepante, ou seja, valores que estão distante do padrão dos dados."
   ]
  },
  {
   "cell_type": "markdown",
   "metadata": {
    "id": "Wz_59UEYAo-7"
   },
   "source": [
    " # **Aula 5 - Explorando padrões nos dados**"
   ]
  },
  {
   "cell_type": "markdown",
   "metadata": {
    "id": "72Td_hwbrc8I"
   },
   "source": [
    "## **5.1 - Violin Plot**\n",
    "\n",
    "---\n",
    "\n"
   ]
  },
  {
   "cell_type": "markdown",
   "metadata": {
    "id": "f9EhMcTSB0iU"
   },
   "source": [
    "\n",
    "Retomando a nossa situação problema da fábrica de produtos de higiene e limpeza. Vamos agora analisar as observações com as medidas de altura, comprimento e largura de uma caixa de sabão em pó em um total de 1000 amostras medidas. Vamos buscar por padrões em nossas medidas e também verificar se uma das amostras possuem itens que são rejeitados de acordo com as regras do negócio."
   ]
  },
  {
   "cell_type": "markdown",
   "metadata": {
    "id": "Hkjo742WBqw-"
   },
   "source": [
    "#### **Base de dados 2 - Amostras das medidas da embalagem de sabão em pó**"
   ]
  },
  {
   "cell_type": "code",
   "execution_count": null,
   "metadata": {
    "id": "70zge8ynBqxZ"
   },
   "outputs": [],
   "source": [
    "# Importando a base de dados dos volumes de um amaciante em 1000 amostras realizadas\n",
    "import pandas as pd\n",
    "df_medidas = pd.read_csv(\"https://raw.githubusercontent.com/alura-cursos/dataviz-graficos/master/dados/medidas_sabao_em_po.csv\")\n",
    "\n",
    "df_medidas.sample(5)"
   ]
  },
  {
   "cell_type": "code",
   "execution_count": null,
   "metadata": {
    "id": "a-kQxjeUBqxb"
   },
   "outputs": [],
   "source": [
    "# Verificando a estatística descritiva das amostras das medidas da embalagem de sabão em pó em forma de tabela\n",
    "df_medidas.describe()"
   ]
  },
  {
   "cell_type": "markdown",
   "metadata": {
    "id": "K5hNJa0cBqxc"
   },
   "source": [
    "Após visualizarmos de maneira rápida os dados que possuímos, vamos partir para as análises que podemos fazer com esses dados e quais os gráficos de distribuição vamos utilizar a fim de apresentar esse tipo de informação.\n",
    "\n",
    "### **Questionamentos**\n",
    "\n",
    "1.   Como está a distribuição das medidas de comprimento da embalagem de sabão em pó para cada uma das amostras?\n",
    "\n",
    "2.   Como estão dispostas as medidas de comprimento e altura da amostra A? Se quisermos rejeitar todos os itens em que o valor de comprimento e altura está 10% acima ou abaixo do valor de 20 e 15 respectivamente, quais seriam rejeitados?\n",
    "\n",
    "\n",
    "\n"
   ]
  },
  {
   "cell_type": "markdown",
   "metadata": {
    "id": "9kyH1su1qAS6"
   },
   "source": [
    "### **Pergunta 3 -** Como está a distribuição das medidas de comprimento da embalagem de sabão em pó para cada uma das amostras?"
   ]
  },
  {
   "cell_type": "markdown",
   "metadata": {
    "id": "COtXmfY2qvNU"
   },
   "source": [
    "#### Visualizando os dados"
   ]
  },
  {
   "cell_type": "code",
   "execution_count": null,
   "metadata": {
    "id": "JC0UNDfJqt8P"
   },
   "outputs": [],
   "source": [
    "df_medidas.sample(5)"
   ]
  },
  {
   "cell_type": "markdown",
   "metadata": {
    "id": "5Mw-ObDaqAS_"
   },
   "source": [
    "#### Gerando o gráfico"
   ]
  },
  {
   "cell_type": "code",
   "execution_count": null,
   "metadata": {
    "id": "9Yrq9J4MqAS_"
   },
   "outputs": [],
   "source": [
    "## Configurando o gráfico com parâmetros que potencializam a visualização dos dados\n",
    "\n",
    "# Importando as bibliotecas\n",
    "import matplotlib.pyplot as plt\n",
    "import seaborn as sns\n",
    "\n",
    "# Área do gráfico e tema da visualização\n",
    "fig, axs = plt.subplots(figsize=(10,5))\n",
    "sns.set_theme(style=\"whitegrid\")\n",
    "\n",
    "# Gerando o violinplot de comprimento, altura e largura\n",
    "...\n",
    "\n",
    "# ## Personalizando o gráfico\n",
    "# plt.suptitle('Violin plot do comprimento da caixa de sabão em pó', size=18, color=CINZA1, ha = 'right', x = 0.785, y = 1.03)\n",
    "# plt.title('Para 5 amostras com 200 observações cada', fontsize=14, color=CINZA2, pad = 15, loc = \"left\")\n",
    "# ax.set_xlabel('Amostra',  fontsize = 14)\n",
    "# ax.set_ylabel('Comprimento (cm)', fontsize = 14)\n",
    "# ax.xaxis.set_tick_params(labelsize=12, labelcolor = CINZA2)\n",
    "# ax.yaxis.set_tick_params(labelsize=12, labelcolor = CINZA2)\n",
    "# sns.despine(bottom=True)     \n",
    "\n",
    "plt.show()"
   ]
  },
  {
   "cell_type": "markdown",
   "metadata": {
    "id": "GalqiyyHqAS_"
   },
   "source": [
    "<font color=green size=4> Conclusões: </font>\n",
    "\n",
    "---\n",
    "\n",
    "O Violin plot é a união entre o histograma e o boxplot. Nele podemos verificar tanto a distribuição dos dados pela representação da curva, quanto dentro dele percebemos o boxplot com as variáveis de interesse.\n",
    "\n",
    "Como sugestão, podemos testar essa técnica também com outros valores em nossa base de dados como, por exemplo, na largura ou na altura da caixa. Vale a pena testar se possuímos uma grande diferença entre as amostras e o que podemos observar nessa distribuição."
   ]
  },
  {
   "cell_type": "markdown",
   "metadata": {
    "id": "NNIqzEAjzxWc"
   },
   "source": [
    "## **5.2 Gráfico de dispersão**\n",
    "\n",
    "---\n",
    "\n"
   ]
  },
  {
   "cell_type": "markdown",
   "metadata": {
    "id": "WBoL0D50Aqk_"
   },
   "source": [
    "<img src=\"https://github.com/alura-cursos/dataviz-graficos/blob/3853c7870952376102f2dd09593ef2965c19318c/imagens/Tipos_Graficos/Gr%C3%A1ficos%20de%20distribui%C3%A7%C3%A3o%20(explorando%20padr%C3%B5es%20nos%20dados).png?raw=true\" alt=\"inserir alt\" height=\"343\">\n",
    "\n",
    "<font size=2>Fonte: Andrew Abela (Extreme Presentation/Biuwer)</font>\n"
   ]
  },
  {
   "cell_type": "markdown",
   "metadata": {
    "id": "oeawtNNazxWh"
   },
   "source": [
    "### **Pergunta 3 -** Como estão dispostas as medidas de comprimento e altura da amostra A? Se quisermos rejeitar todos os itens em que o valor de comprimento e altura está 1% acima ou abaixo do valor de 20 e 15, respectivamente, quais seriam rejeitados?"
   ]
  },
  {
   "cell_type": "markdown",
   "metadata": {
    "id": "5N6LxAIYzxWh"
   },
   "source": [
    "#### Visualizando os dados"
   ]
  },
  {
   "cell_type": "code",
   "execution_count": null,
   "metadata": {
    "colab": {
     "base_uri": "https://localhost:8080/",
     "height": 206
    },
    "executionInfo": {
     "elapsed": 376,
     "status": "ok",
     "timestamp": 1683914961165,
     "user": {
      "displayName": "Afonso Augusto Rios",
      "userId": "05972796828124452071"
     },
     "user_tz": 180
    },
    "id": "7_TqFJeYzxWh",
    "outputId": "ed8c48f0-0977-4536-b8a0-dada0718431f"
   },
   "outputs": [],
   "source": [
    "df_a = df_medidas.query(\"amostra == 'A'\")[[\"comprimento\", \"altura\"]]\n",
    "df_a.head()"
   ]
  },
  {
   "cell_type": "markdown",
   "metadata": {
    "id": "Mtsmy55bzxWh"
   },
   "source": [
    "#### Gerando o gráfico"
   ]
  },
  {
   "cell_type": "code",
   "execution_count": null,
   "metadata": {
    "id": "CpUDIK2eI_Rd"
   },
   "outputs": [],
   "source": [
    "# Gerando a função que cria o gráfico de dispersão\n",
    "\n",
    "def grafico_dispersao(map_cores: list=[AZUL2], pct: float=0.01):\n",
    "  # Importando as bibliotecas\n",
    "  import matplotlib.pyplot as plt\n",
    "  import seaborn as sns\n",
    "\n",
    "  # Área do gráfico e tema da visualização\n",
    "  fig, ax = plt.subplots(figsize=(10,5))\n",
    "  sns.set_theme(style=\"white\")\n",
    "\n",
    "  # Gerando o gráfico de dispersão\n",
    "  ...\n",
    "\n",
    "  # ## Personalizando o gráfico\n",
    "  # plt.suptitle('Distribuição do comprimento x altura da caixa de sabão em pó', size=18, color=CINZA1, ha = 'right', x = 0.91, y = 1.03)\n",
    "  # plt.title('Para a amostra A com 200 observações', fontsize=14, color=CINZA2, pad = 15, loc = \"left\")\n",
    "  # ax.set_xlabel('Comprimento (cm)',  fontsize = 14)\n",
    "  # ax.set_ylabel('Altura (cm)', fontsize = 14)\n",
    "  # ax.xaxis.set_tick_params(labelsize=12, labelcolor = CINZA2)\n",
    "  # ax.yaxis.set_tick_params(labelsize=12, labelcolor = CINZA2)\n",
    "  # sns.despine()     \n",
    "\n",
    "  # # Desenhando a linha horizontal com o límite mínimo de altura desejado\n",
    "  # ax.text(19.92, 14.855, 'Limite mínimo da altura', fontsize=12, color = CINZA2, va = \"bottom\")\n",
    "  # plt.axhline(y = 15 * (1 - pct), xmin = 0, xmax = df_a[\"comprimento\"].max(), color = CINZA4, linestyle='--')\n",
    "\n",
    "  # # Desenhando a linha vertical com o límite mínimo de comprimento desejado\n",
    "  # ax.text(20.205, 15.05, 'Limite máximo\\nde comprimento', fontsize=12, color = CINZA2, ha=\"left\")\n",
    "  # plt.axvline(x = 20 * (1 + pct), ymin = 0, ymax = df_a[\"altura\"].max(), color = CINZA4, linestyle='--')\n",
    "\n",
    "  return ax\n",
    "\n",
    "ax = grafico_dispersao()"
   ]
  },
  {
   "cell_type": "markdown",
   "metadata": {
    "id": "fjI9h_XZKtAY"
   },
   "source": [
    "## **5.3 - Mapeando dados por cores**\n",
    "\n",
    "---\n",
    "\n"
   ]
  },
  {
   "cell_type": "code",
   "execution_count": null,
   "metadata": {
    "id": "Wi6m-sf4zxWh"
   },
   "outputs": [],
   "source": [
    "## Configurando o gráfico com parâmetros que potencializam a visualização dos dados\n",
    "\n",
    "# Importando as bibliotecas\n",
    "from matplotlib.patches import Ellipse\n",
    "import numpy as np\n",
    "\n",
    "# Definindo as cores do gráfico\n",
    "cores = [VERMELHO1, LARANJA1, AZUL2]\n",
    "\n",
    "# Gerando o gráfico de dispersão e rejeitando os valores fora da faixa requisitada (1%)\n",
    "pct = 0.01       \n",
    "rejeita_comp = [True if (c > 20*(1+pct) or c < 20*(1-pct)) else False for c in df_a[\"comprimento\"]]\n",
    "rejeita_alt = [True if (a > 15*(1+pct) or a < 15*(1-pct)) else False for a in df_a[\"altura\"]]\n",
    "...\n",
    "ax = grafico_dispersao(...)\n",
    "\n",
    "# # Selecionando as áreas de rejeição\n",
    "# rej_comp = Ellipse((20.165, 14.80), width = 0.065, height = 0.08, color=CINZA1, fill=False)\n",
    "# rej_alt = Ellipse((20.24, 14.715), width = 0.04, height = 0.08, color=CINZA1, fill=False)\n",
    "# ax.add_patch(rej_comp)\n",
    "# ax.add_patch(rej_alt)\n",
    "\n",
    "# ax.annotate(\"Rejeição pela faixa\\nde altura\", xy=(20.185, 14.82), xycoords='data',\n",
    "#             bbox=dict(boxstyle=\"round\", fc=CINZA5, ec=CINZA3),\n",
    "#             xytext=(50, -20), textcoords='offset points',\n",
    "#             arrowprops=dict(arrowstyle=\"->\", color=CINZA3)) \n",
    "\n",
    "# ax.annotate(\"Rejeição pela faixa\\nde comprimento e altura\", xy=(20.22, 14.72), xycoords='data',\n",
    "#             bbox=dict(boxstyle=\"round\", fc=CINZA5, ec=CINZA3),\n",
    "#             xytext=(-180, -20), textcoords='offset points',\n",
    "#             arrowprops=dict(arrowstyle=\"->\", color=CINZA3))\n",
    "\n",
    "fig = ax.get_figure()"
   ]
  },
  {
   "cell_type": "markdown",
   "metadata": {
    "id": "JN_Du8WIzxWh"
   },
   "source": [
    "<font color=green size=4> Conclusões: </font>\n",
    "\n",
    "---\n",
    "\n",
    "Neste último gráfico de distribuição apresentamos o gráfico de dispersão. Utilizado também para o relacionamento entre os dados, este gráfico como distribuição aponta como as dimensões das caixas estão distruídas entre duas variáveis: comprimento e altura.\n",
    "\n",
    "Aqui utilizamos dois recursos visuais que é o de acercamento (gerado pela delimitação dos limites máximos e mínimos de comprimento e altura, respectivamente) e o de similaridade por meio das cores, representando os grupos dos valores aceitos, rejeitados por altura e rejeitados por altura e comprimento."
   ]
  }
 ],
 "metadata": {
  "colab": {
   "authorship_tag": "ABX9TyPze6/HL1HHkVLFjKIR2izC",
   "provenance": []
  },
  "kernelspec": {
   "display_name": "Python 3 (ipykernel)",
   "language": "python",
   "name": "python3"
  },
  "language_info": {
   "codemirror_mode": {
    "name": "ipython",
    "version": 3
   },
   "file_extension": ".py",
   "mimetype": "text/x-python",
   "name": "python",
   "nbconvert_exporter": "python",
   "pygments_lexer": "ipython3",
   "version": "3.11.3"
  }
 },
 "nbformat": 4,
 "nbformat_minor": 1
}
